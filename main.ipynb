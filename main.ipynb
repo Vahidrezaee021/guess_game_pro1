{
 "cells": [
  {
   "cell_type": "code",
   "execution_count": null,
   "metadata": {},
   "outputs": [],
   "source": [
    "import random"
   ]
  },
  {
   "cell_type": "code",
   "execution_count": 11,
   "metadata": {},
   "outputs": [],
   "source": [
    "def valid_number(input_num):\n",
    "    if not input_num.isdigit():\n",
    "        print(\"enter a number!\")\n",
    "        return False\n",
    "    input_num = int(input_num)\n",
    "    if input_num > 100 or  input_num < 1:\n",
    "        print(\"enter a num between 1 and 100\")\n",
    "        return False\n",
    "    return True"
   ]
  },
  {
   "cell_type": "code",
   "execution_count": null,
   "metadata": {},
   "outputs": [],
   "source": [
    "def start_game():\n",
    "    rand_int = random.randint(1, 100)\n",
    "    score = 100\n",
    "    while True:\n",
    "        input_num = input(\"please enter a number\")\n",
    "        if input_num == \"q\":\n",
    "            break\n",
    "        if not valid_number(input_num):\n",
    "            continue\n",
    "        input_num = int(input_num)\n",
    "        if rand_int == input_num:\n",
    "            print(\"ahsant!\")\n",
    "            play_again = input(\"play again? y/n\")\n",
    "            if play_again == \"y\":\n",
    "                rand_int = random.randint(1, 100)\n",
    "                continue\n",
    "            else:\n",
    "                print(\"Thanks for playing!\")\n",
    "                break\n",
    "        elif rand_int > input_num:\n",
    "            print(\"is bigger!\")\n",
    "            score -= 1\n",
    "        else:\n",
    "            print(\"is lower\")\n",
    "            score -= 1"
   ]
  }
 ],
 "metadata": {
  "kernelspec": {
   "display_name": "myenv",
   "language": "python",
   "name": "python3"
  },
  "language_info": {
   "codemirror_mode": {
    "name": "ipython",
    "version": 3
   },
   "file_extension": ".py",
   "mimetype": "text/x-python",
   "name": "python",
   "nbconvert_exporter": "python",
   "pygments_lexer": "ipython3",
   "version": "3.11.13"
  }
 },
 "nbformat": 4,
 "nbformat_minor": 2
}
